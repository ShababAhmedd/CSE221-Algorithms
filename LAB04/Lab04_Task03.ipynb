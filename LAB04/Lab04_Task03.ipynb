{
  "nbformat": 4,
  "nbformat_minor": 0,
  "metadata": {
    "colab": {
      "provenance": [],
      "mount_file_id": "17tJoXizWwCQIJbLJvLZ0P1DSsUSAvb3o",
      "authorship_tag": "ABX9TyOwHEKNjz5ibxt2gwtiqLnM",
      "include_colab_link": true
    },
    "kernelspec": {
      "name": "python3",
      "display_name": "Python 3"
    },
    "language_info": {
      "name": "python"
    }
  },
  "cells": [
    {
      "cell_type": "markdown",
      "metadata": {
        "id": "view-in-github",
        "colab_type": "text"
      },
      "source": [
        "<a href=\"https://colab.research.google.com/github/ShababAhmedd/CSE221-Algorithms/blob/main/LAB04/Lab04_Task03.ipynb\" target=\"_parent\"><img src=\"https://colab.research.google.com/assets/colab-badge.svg\" alt=\"Open In Colab\"/></a>"
      ]
    },
    {
      "cell_type": "code",
      "source": [
        "# Mounting Google drive to access input and output files.\n",
        "from google.colab import drive\n",
        "drive.mount('/content/drive')"
      ],
      "metadata": {
        "colab": {
          "base_uri": "https://localhost:8080/"
        },
        "id": "tXxu5URvOwcF",
        "outputId": "3f9cb7c0-6a1c-4a35-d778-c56bdd638c36"
      },
      "execution_count": 297,
      "outputs": [
        {
          "output_type": "stream",
          "name": "stdout",
          "text": [
            "Drive already mounted at /content/drive; to attempt to forcibly remount, call drive.mount(\"/content/drive\", force_remount=True).\n"
          ]
        }
      ]
    },
    {
      "cell_type": "code",
      "execution_count": 298,
      "metadata": {
        "id": "LrzLQz7gNL5Q"
      },
      "outputs": [],
      "source": [
        "# Opening both input and output files for reading and writing.\n",
        "input3 = open(\"/content/drive/MyDrive/cse221_lab/LAB4/Task03/input3_1.txt\",\"r\")\n",
        "output3 = open(\"/content/drive/MyDrive/cse221_lab/LAB4/Task03/output3.txt\",\"w\")"
      ]
    },
    {
      "cell_type": "code",
      "source": [
        "# Creating Adjacency Graph.\n",
        "N,M = map(int,input3.readline().strip().split())\n",
        "#print(\"No. of Vertex: \",N)\n",
        "#print(\"No. of Edge: \",M)\n",
        "\n",
        "graph = {}\n",
        "counter = 0\n",
        "for i in range(M):\n",
        "  u,v = map(int,input3.readline().strip().split())\n",
        "  if u in graph:\n",
        "    graph[u].append(v)\n",
        "  else:\n",
        "    graph[u] = [v]\n",
        "  counter += 1\n",
        "\n",
        "#print(\"Adj. Graph: \", graph)"
      ],
      "metadata": {
        "id": "dmXkHG9Vtigi"
      },
      "execution_count": 299,
      "outputs": []
    },
    {
      "cell_type": "code",
      "source": [
        "for i in range(N+1):\n",
        "  if i not in graph:\n",
        "    graph[i] = []\n",
        "#print(graph)"
      ],
      "metadata": {
        "id": "BjkSxgLl9nW9"
      },
      "execution_count": 300,
      "outputs": []
    },
    {
      "cell_type": "code",
      "source": [
        "# DFS algo using recursive approach.\n",
        "visited = set()\n",
        "dfs_traversal = []\n",
        "def dfs(visited, graph, root):\n",
        "  if root not in visited:\n",
        "    dfs_traversal.append(root)\n",
        "    visited.add(root)\n",
        "    for neighbour in graph[root]:\n",
        "      dfs(visited, graph, neighbour)"
      ],
      "metadata": {
        "id": "k5M_21g6gXY3"
      },
      "execution_count": 301,
      "outputs": []
    },
    {
      "cell_type": "code",
      "source": [
        "# calling dfs algo to generate the output\n",
        "dfs(visited, graph, 1)\n",
        "#print(dfs_traversal)"
      ],
      "metadata": {
        "colab": {
          "base_uri": "https://localhost:8080/"
        },
        "id": "hBTwb9ce50P_",
        "outputId": "08c9571e-e6ce-4de8-ed3b-a6492696cc7d"
      },
      "execution_count": 302,
      "outputs": [
        {
          "output_type": "stream",
          "name": "stdout",
          "text": [
            "[1, 3, 2, 4]\n"
          ]
        }
      ]
    },
    {
      "cell_type": "code",
      "source": [
        "# writing those elements in the output file.\n",
        "for i in dfs_traversal:\n",
        "  output3.write(str(i))\n",
        "  output3.write(' ')"
      ],
      "metadata": {
        "id": "8_HO6gFCFcxr"
      },
      "execution_count": 303,
      "outputs": []
    },
    {
      "cell_type": "code",
      "source": [
        "# closing the input and output files.\n",
        "input3.close()\n",
        "output3.close()"
      ],
      "metadata": {
        "id": "3n60Ip7EGWC9"
      },
      "execution_count": 304,
      "outputs": []
    }
  ]
}